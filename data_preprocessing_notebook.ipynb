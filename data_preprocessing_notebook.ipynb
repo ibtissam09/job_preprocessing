{
 "cells": [
  {
   "cell_type": "markdown",
   "source": [
    "# Jobs offer preprocessing"
   ],
   "metadata": {
    "collapsed": false
   }
  },
  {
   "cell_type": "markdown",
   "source": [
    "## Fix date_publication column"
   ],
   "metadata": {
    "collapsed": false
   }
  },
  {
   "cell_type": "code",
   "execution_count": null,
   "outputs": [],
   "source": [
    "from data_preprocessing.preprocessing import *\n",
    "df = fix_date()"
   ],
   "metadata": {
    "collapsed": false
   }
  },
  {
   "cell_type": "code",
   "execution_count": null,
   "outputs": [],
   "source": [
    "df.date_publication.unique()"
   ],
   "metadata": {
    "collapsed": false
   }
  },
  {
   "cell_type": "markdown",
   "source": [
    "## Extract Education Level"
   ],
   "metadata": {
    "collapsed": false
   }
  },
  {
   "cell_type": "code",
   "execution_count": 1,
   "outputs": [
    {
     "data": {
      "text/plain": "                        _id  \\\n0  6374cb413979fb838831f1de   \n1  6374cb413979fb838831f1df   \n2  6374cb413979fb838831f1e0   \n3  6374cb413979fb838831f1e1   \n4  6374cb413979fb838831f1e2   \n\n                                                link  \\\n0  https://www.optioncarriere.com/jobad/fr7d33914...   \n1  https://www.optioncarriere.com/jobad/fr1131534...   \n2  https://www.optioncarriere.com/jobad/frc0f2749...   \n3  https://www.optioncarriere.com/jobad/fr7df99c2...   \n4  https://www.optioncarriere.com/jobad/fr02ff8ee...   \n\n                                               title        company  \\\n0    VENDEUR/ANIMATEUR SPÉCIALISÉ EN BRICOLAGE (H/F)     NOV'Action   \n1            Animateur commercial en bricolage (H/F)     NOV'Action   \n2            Animateur commercial en bricolage (H/F)     NOV'Action   \n3  Responsable Technique et Construction F/H ( 76...  MyJob.Company   \n4  Conseiller Commercial F/H ( 72000 LE MANS, Fra...       Generali   \n\n                                             details  \\\n0  [\\n\\nToulouse\\n, \\n\\n      CDI\\n    , \\n\\n    ...   \n1  [\\n\\nBrive-la-Gaillarde, Corrèze\\n, \\n\\n      ...   \n2  [\\n\\nToulouse\\n, \\n\\n      CDI\\n    , \\n\\n    ...   \n3  [\\n\\nRouen, Seine-Maritime\\n, \\n\\n      50.000...   \n4  [\\n\\nLe Mans, Sarthe\\n, \\n\\n      60.000 €/an\\...   \n\n                                            tags  \\\n0  [\\nIl y a 2 jours\\n, \\nPostuler facilement\\n]   \n1  [\\nIl y a 2 jours\\n, \\nPostuler facilement\\n]   \n2  [\\nIl y a 2 jours\\n, \\nPostuler facilement\\n]   \n3             [\\n\\n Il y a 2 heures\\n        \\n]   \n4             [\\n\\n Il y a 2 heures\\n        \\n]   \n\n                                         description insert_time DUP  \\\n0  {'desc': '\n  \n    Nous recrutons des Vendeurs/...  16/11/2022   D   \n1  {'desc': '\n  \n    Nov'Action recrute des Vende...  16/11/2022   D   \n2  {'desc': '\n  \n    Nov'Action recrute des Vende...  16/11/2022   D   \n3  {'desc': '\nDescription du poste  Pour accompag...  16/11/2022   D   \n4  {'desc': '\nDescription du poste  Un métier qui...  16/11/2022   D   \n\n  date_publication  \n0       2022-11-14  \n1       2022-11-14  \n2       2022-11-14  \n3       2022-11-16  \n4       2022-11-16  ",
      "text/html": "<div>\n<style scoped>\n    .dataframe tbody tr th:only-of-type {\n        vertical-align: middle;\n    }\n\n    .dataframe tbody tr th {\n        vertical-align: top;\n    }\n\n    .dataframe thead th {\n        text-align: right;\n    }\n</style>\n<table border=\"1\" class=\"dataframe\">\n  <thead>\n    <tr style=\"text-align: right;\">\n      <th></th>\n      <th>_id</th>\n      <th>link</th>\n      <th>title</th>\n      <th>company</th>\n      <th>details</th>\n      <th>tags</th>\n      <th>description</th>\n      <th>insert_time</th>\n      <th>DUP</th>\n      <th>date_publication</th>\n    </tr>\n  </thead>\n  <tbody>\n    <tr>\n      <th>0</th>\n      <td>6374cb413979fb838831f1de</td>\n      <td>https://www.optioncarriere.com/jobad/fr7d33914...</td>\n      <td>VENDEUR/ANIMATEUR SPÉCIALISÉ EN BRICOLAGE (H/F)</td>\n      <td>NOV'Action</td>\n      <td>[\\n\\nToulouse\\n, \\n\\n      CDI\\n    , \\n\\n    ...</td>\n      <td>[\\nIl y a 2 jours\\n, \\nPostuler facilement\\n]</td>\n      <td>{'desc': '\n  \n    Nous recrutons des Vendeurs/...</td>\n      <td>16/11/2022</td>\n      <td>D</td>\n      <td>2022-11-14</td>\n    </tr>\n    <tr>\n      <th>1</th>\n      <td>6374cb413979fb838831f1df</td>\n      <td>https://www.optioncarriere.com/jobad/fr1131534...</td>\n      <td>Animateur commercial en bricolage (H/F)</td>\n      <td>NOV'Action</td>\n      <td>[\\n\\nBrive-la-Gaillarde, Corrèze\\n, \\n\\n      ...</td>\n      <td>[\\nIl y a 2 jours\\n, \\nPostuler facilement\\n]</td>\n      <td>{'desc': '\n  \n    Nov'Action recrute des Vende...</td>\n      <td>16/11/2022</td>\n      <td>D</td>\n      <td>2022-11-14</td>\n    </tr>\n    <tr>\n      <th>2</th>\n      <td>6374cb413979fb838831f1e0</td>\n      <td>https://www.optioncarriere.com/jobad/frc0f2749...</td>\n      <td>Animateur commercial en bricolage (H/F)</td>\n      <td>NOV'Action</td>\n      <td>[\\n\\nToulouse\\n, \\n\\n      CDI\\n    , \\n\\n    ...</td>\n      <td>[\\nIl y a 2 jours\\n, \\nPostuler facilement\\n]</td>\n      <td>{'desc': '\n  \n    Nov'Action recrute des Vende...</td>\n      <td>16/11/2022</td>\n      <td>D</td>\n      <td>2022-11-14</td>\n    </tr>\n    <tr>\n      <th>3</th>\n      <td>6374cb413979fb838831f1e1</td>\n      <td>https://www.optioncarriere.com/jobad/fr7df99c2...</td>\n      <td>Responsable Technique et Construction F/H ( 76...</td>\n      <td>MyJob.Company</td>\n      <td>[\\n\\nRouen, Seine-Maritime\\n, \\n\\n      50.000...</td>\n      <td>[\\n\\n Il y a 2 heures\\n        \\n]</td>\n      <td>{'desc': '\nDescription du poste  Pour accompag...</td>\n      <td>16/11/2022</td>\n      <td>D</td>\n      <td>2022-11-16</td>\n    </tr>\n    <tr>\n      <th>4</th>\n      <td>6374cb413979fb838831f1e2</td>\n      <td>https://www.optioncarriere.com/jobad/fr02ff8ee...</td>\n      <td>Conseiller Commercial F/H ( 72000 LE MANS, Fra...</td>\n      <td>Generali</td>\n      <td>[\\n\\nLe Mans, Sarthe\\n, \\n\\n      60.000 €/an\\...</td>\n      <td>[\\n\\n Il y a 2 heures\\n        \\n]</td>\n      <td>{'desc': '\nDescription du poste  Un métier qui...</td>\n      <td>16/11/2022</td>\n      <td>D</td>\n      <td>2022-11-16</td>\n    </tr>\n  </tbody>\n</table>\n</div>"
     },
     "execution_count": 1,
     "metadata": {},
     "output_type": "execute_result"
    }
   ],
   "source": [
    "from database_management.database import *\n",
    "df = select_data_with_filter('niveau_etude', None)\n",
    "df.head()"
   ],
   "metadata": {
    "collapsed": false
   }
  },
  {
   "cell_type": "code",
   "execution_count": 17,
   "outputs": [
    {
     "data": {
      "text/plain": "2.0    847\n3.0    403\n5.0    306\n4.0    128\n6.0      9\n1.0      1\nName: niveau_etude, dtype: int64"
     },
     "execution_count": 17,
     "metadata": {},
     "output_type": "execute_result"
    }
   ],
   "source": [
    "df = extract_education_level()\n",
    "df.head()"
   ],
   "metadata": {
    "collapsed": false
   }
  },
  {
   "cell_type": "code",
   "execution_count": null,
   "outputs": [],
   "source": [],
   "metadata": {
    "collapsed": false
   }
  }
 ],
 "metadata": {
  "kernelspec": {
   "display_name": "Python 3",
   "language": "python",
   "name": "python3"
  },
  "language_info": {
   "codemirror_mode": {
    "name": "ipython",
    "version": 2
   },
   "file_extension": ".py",
   "mimetype": "text/x-python",
   "name": "python",
   "nbconvert_exporter": "python",
   "pygments_lexer": "ipython2",
   "version": "2.7.6"
  }
 },
 "nbformat": 4,
 "nbformat_minor": 0
}
