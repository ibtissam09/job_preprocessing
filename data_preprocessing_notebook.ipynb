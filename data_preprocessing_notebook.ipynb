{
 "cells": [
  {
   "cell_type": "markdown",
   "source": [
    "# Jobs offer preprocessing"
   ],
   "metadata": {
    "collapsed": false
   }
  },
  {
   "cell_type": "markdown",
   "source": [
    "## Fix date_publication column"
   ],
   "metadata": {
    "collapsed": false
   }
  },
  {
   "cell_type": "code",
   "execution_count": 1,
   "outputs": [
    {
     "name": "stderr",
     "output_type": "stream",
     "text": [
      "C:\\Users\\admin\\Dropbox\\My PC (DESKTOP-SJ4DIVN)\\Desktop\\Ydays\\job_preprocessing\\data_preprocessing\\preprocessing.py:14: UserWarning: Parsing dates in DD/MM/YYYY format when dayfirst=False (the default) was specified. This may lead to inconsistently parsed dates! Specify a format to ensure consistent parsing.\n",
      "  df['insert_time'] = pd.to_datetime(df['insert_time'])\n",
      "C:\\Users\\admin\\Dropbox\\My PC (DESKTOP-SJ4DIVN)\\Desktop\\Ydays\\job_preprocessing\\data_preprocessing\\preprocessing.py:30: UserWarning: Parsing dates in DD/MM/YYYY format when dayfirst=False (the default) was specified. This may lead to inconsistently parsed dates! Specify a format to ensure consistent parsing.\n",
      "  df['date_publication'] = pd.to_datetime(df['date_publication'])\n"
     ]
    }
   ],
   "source": [
    "from data_preprocessing.preprocessing import *\n",
    "df = fix_date()"
   ],
   "metadata": {
    "collapsed": false
   }
  },
  {
   "cell_type": "code",
   "execution_count": 3,
   "outputs": [
    {
     "data": {
      "text/plain": "array(['2022-07-20T00:00:00.000000000', '2022-07-18T00:00:00.000000000',\n       '2022-11-14T00:00:00.000000000', '2022-11-16T00:00:00.000000000',\n       '2022-12-16T00:00:00.000000000', '2022-12-15T00:00:00.000000000',\n       '2022-12-14T00:00:00.000000000'], dtype='datetime64[ns]')"
     },
     "execution_count": 3,
     "metadata": {},
     "output_type": "execute_result"
    }
   ],
   "source": [
    "df.date_publication.unique()"
   ],
   "metadata": {
    "collapsed": false
   }
  },
  {
   "cell_type": "code",
   "execution_count": null,
   "outputs": [],
   "source": [],
   "metadata": {
    "collapsed": false
   }
  }
 ],
 "metadata": {
  "kernelspec": {
   "display_name": "Python 3",
   "language": "python",
   "name": "python3"
  },
  "language_info": {
   "codemirror_mode": {
    "name": "ipython",
    "version": 2
   },
   "file_extension": ".py",
   "mimetype": "text/x-python",
   "name": "python",
   "nbconvert_exporter": "python",
   "pygments_lexer": "ipython2",
   "version": "2.7.6"
  }
 },
 "nbformat": 4,
 "nbformat_minor": 0
}
